{
 "cells": [
  {
   "cell_type": "markdown",
   "metadata": {
    "id": "v2589k_RTSaI"
   },
   "source": [
    "##Подключение гугл диска"
   ]
  },
  {
   "cell_type": "code",
   "execution_count": 26,
   "metadata": {
    "colab": {
     "base_uri": "https://localhost:8080/"
    },
    "executionInfo": {
     "elapsed": 1665,
     "status": "ok",
     "timestamp": 1716233021589,
     "user": {
      "displayName": "Daniil",
      "userId": "08235567002064309585"
     },
     "user_tz": -180
    },
    "id": "wTU9VakwPniG",
    "outputId": "e09e281b-fd08-419a-b111-3309a2e1ab89"
   },
   "outputs": [
    {
     "name": "stdout",
     "output_type": "stream",
     "text": [
      "Drive already mounted at /content/drive; to attempt to forcibly remount, call drive.mount(\"/content/drive\", force_remount=True).\n"
     ]
    }
   ],
   "source": [
    "from google.colab import drive\n",
    "drive.mount('/content/drive')\n",
    "\n"
   ]
  },
  {
   "cell_type": "markdown",
   "metadata": {
    "id": "rjByIHC3dg7b"
   },
   "source": [
    "#Первая нейросеть"
   ]
  },
  {
   "cell_type": "markdown",
   "metadata": {
    "id": "07dcRF5T4J8q"
   },
   "source": [
    "##Импорт необходимых библиотек"
   ]
  },
  {
   "cell_type": "code",
   "execution_count": 27,
   "metadata": {
    "executionInfo": {
     "elapsed": 254,
     "status": "ok",
     "timestamp": 1716233025336,
     "user": {
      "displayName": "Daniil",
      "userId": "08235567002064309585"
     },
     "user_tz": -180
    },
    "id": "kfxPMAw5krSD"
   },
   "outputs": [],
   "source": [
    "import pandas as pd\n",
    "import numpy as np\n",
    "from sklearn.model_selection import train_test_split\n",
    "from keras.utils import to_categorical\n",
    "from tensorflow.keras.preprocessing.text import Tokenizer\n",
    "from tensorflow.keras.preprocessing.sequence import pad_sequences\n",
    "from tensorflow.keras.layers import Dense\n",
    "from tensorflow.keras.models import Sequential\n",
    "from tensorflow.keras.layers import Dropout, BatchNormalization, Activation\n",
    "import matplotlib.pyplot as plt"
   ]
  },
  {
   "cell_type": "markdown",
   "metadata": {
    "id": "9Tm6ee5Q4WLx"
   },
   "source": [
    "##Чтение файла"
   ]
  },
  {
   "cell_type": "code",
   "execution_count": null,
   "metadata": {
    "executionInfo": {
     "elapsed": 6,
     "status": "ok",
     "timestamp": 1716233028405,
     "user": {
      "displayName": "Daniil",
      "userId": "08235567002064309585"
     },
     "user_tz": -180
    },
    "id": "5fMYmLW0kzLf"
   },
   "outputs": [],
   "source": [
    "data = pd.read_csv('/content/drive/MyDrive/spam.csv')\n",
    "data['Category'] = data['Category'].replace({'spam': 1, 'ham': 0})"
   ]
  },
  {
   "cell_type": "markdown",
   "metadata": {
    "id": "hpbWzO5x4hOA"
   },
   "source": [
    "##Разделение на тренировочный и тестовый датасеты"
   ]
  },
  {
   "cell_type": "code",
   "execution_count": 29,
   "metadata": {
    "executionInfo": {
     "elapsed": 434,
     "status": "ok",
     "timestamp": 1716233030742,
     "user": {
      "displayName": "Daniil",
      "userId": "08235567002064309585"
     },
     "user_tz": -180
    },
    "id": "2AFoYUqqly6F"
   },
   "outputs": [],
   "source": [
    "train_data, test_data = train_test_split(data, test_size=0.2,random_state=8)"
   ]
  },
  {
   "cell_type": "markdown",
   "metadata": {
    "id": "FmpN0Oga4tDp"
   },
   "source": [
    "##Токенизация текста"
   ]
  },
  {
   "cell_type": "code",
   "execution_count": 30,
   "metadata": {
    "executionInfo": {
     "elapsed": 257,
     "status": "ok",
     "timestamp": 1716233032929,
     "user": {
      "displayName": "Daniil",
      "userId": "08235567002064309585"
     },
     "user_tz": -180
    },
    "id": "H_BII1V-VACV"
   },
   "outputs": [],
   "source": [
    "tokenizer = Tokenizer(num_words=10000)"
   ]
  },
  {
   "cell_type": "code",
   "execution_count": 31,
   "metadata": {
    "executionInfo": {
     "elapsed": 428,
     "status": "ok",
     "timestamp": 1716233034949,
     "user": {
      "displayName": "Daniil",
      "userId": "08235567002064309585"
     },
     "user_tz": -180
    },
    "id": "OTR9FsukpfcT"
   },
   "outputs": [],
   "source": [
    "trainText = train_data['Message'].tolist()\n",
    "testText = test_data['Message'].tolist()\n",
    "tokenizer.fit_on_texts(trainText)\n"
   ]
  },
  {
   "cell_type": "markdown",
   "metadata": {
    "id": "-4AB9VKWF1SD"
   },
   "source": [
    "###Проверка первых самых частых слов"
   ]
  },
  {
   "cell_type": "code",
   "execution_count": 32,
   "metadata": {
    "colab": {
     "base_uri": "https://localhost:8080/"
    },
    "executionInfo": {
     "elapsed": 238,
     "status": "ok",
     "timestamp": 1716233036858,
     "user": {
      "displayName": "Daniil",
      "userId": "08235567002064309585"
     },
     "user_tz": -180
    },
    "id": "XZVgIiVHqnWc",
    "outputId": "35554f4a-8485-4a71-e26d-71bcfcc70c69"
   },
   "outputs": [
    {
     "name": "stdout",
     "output_type": "stream",
     "text": [
      "('i', 1)\n",
      "('to', 2)\n",
      "('you', 3)\n",
      "('a', 4)\n",
      "('the', 5)\n"
     ]
    }
   ],
   "source": [
    "items = list(tokenizer.word_index.items())\n",
    "for i in range(0,5):\n",
    "  print(items[i])\n"
   ]
  },
  {
   "cell_type": "markdown",
   "metadata": {
    "id": "X7qxAQ6_5lOf"
   },
   "source": [
    "##Замена слов на индексы"
   ]
  },
  {
   "cell_type": "code",
   "execution_count": 33,
   "metadata": {
    "executionInfo": {
     "elapsed": 248,
     "status": "ok",
     "timestamp": 1716233038889,
     "user": {
      "displayName": "Daniil",
      "userId": "08235567002064309585"
     },
     "user_tz": -180
    },
    "id": "9Ky7j35MIeJQ"
   },
   "outputs": [],
   "source": [
    "train_sequences = tokenizer.texts_to_sequences(trainText)\n",
    "test_sequences = tokenizer.texts_to_sequences(testText)"
   ]
  },
  {
   "cell_type": "markdown",
   "metadata": {
    "id": "bUxlu_8W59I_"
   },
   "source": [
    "Приведение последовательностей к одной длине"
   ]
  },
  {
   "cell_type": "code",
   "execution_count": 34,
   "metadata": {
    "executionInfo": {
     "elapsed": 341,
     "status": "ok",
     "timestamp": 1716233040928,
     "user": {
      "displayName": "Daniil",
      "userId": "08235567002064309585"
     },
     "user_tz": -180
    },
    "id": "0igp31bIqvjM"
   },
   "outputs": [],
   "source": [
    "max_sequence_length = 100 # Максимальная длина последовательности\n",
    "train_sequences_padded = pad_sequences(train_sequences, maxlen=max_sequence_length)\n",
    "test_sequences_padded = pad_sequences(test_sequences, maxlen=max_sequence_length)"
   ]
  },
  {
   "cell_type": "markdown",
   "metadata": {
    "id": "89vhPJcq6NXq"
   },
   "source": [
    "Преобразование в массивы numpy и проверка формата"
   ]
  },
  {
   "cell_type": "code",
   "execution_count": 35,
   "metadata": {
    "colab": {
     "base_uri": "https://localhost:8080/"
    },
    "executionInfo": {
     "elapsed": 280,
     "status": "ok",
     "timestamp": 1716233043437,
     "user": {
      "displayName": "Daniil",
      "userId": "08235567002064309585"
     },
     "user_tz": -180
    },
    "id": "J7eYTnUcrMC6",
    "outputId": "355badb5-2267-48fa-e462-1ce1b3864882"
   },
   "outputs": [
    {
     "name": "stdout",
     "output_type": "stream",
     "text": [
      "[[   0    0    0 ...  146  680  113]\n",
      " [   0    0    0 ...  104    4  466]\n",
      " [   0    0    0 ...   43   42 1454]\n",
      " ...\n",
      " [   0    0    0 ...   14   11  912]\n",
      " [   0    0    0 ... 1120 1071 2085]\n",
      " [   0    0    0 ...    2 1383 1132]]\n",
      "(4457, 100)\n"
     ]
    }
   ],
   "source": [
    "train_sequences_np = np.array(train_sequences_padded)\n",
    "test_sequences_np = np.array(test_sequences_padded)\n",
    "print(train_sequences_np)\n",
    "print(train_sequences_np.shape)\n"
   ]
  },
  {
   "cell_type": "markdown",
   "metadata": {
    "id": "oy53NmVp6rAT"
   },
   "source": [
    "Приведение к типу bag of words"
   ]
  },
  {
   "cell_type": "code",
   "execution_count": 36,
   "metadata": {
    "colab": {
     "base_uri": "https://localhost:8080/"
    },
    "executionInfo": {
     "elapsed": 287,
     "status": "ok",
     "timestamp": 1716233047218,
     "user": {
      "displayName": "Daniil",
      "userId": "08235567002064309585"
     },
     "user_tz": -180
    },
    "id": "Q8zvLnrcvWGM",
    "outputId": "4bf9d717-b436-439f-8edf-c10a935c4d11"
   },
   "outputs": [
    {
     "name": "stdout",
     "output_type": "stream",
     "text": [
      "(4457, 10000)\n"
     ]
    }
   ],
   "source": [
    "train_sequences_list = train_sequences_np.tolist()\n",
    "xTrain_bow = tokenizer.sequences_to_matrix(train_sequences_list, mode='binary')\n",
    "print(xTrain_bow.shape)\n"
   ]
  },
  {
   "cell_type": "code",
   "execution_count": 37,
   "metadata": {
    "colab": {
     "base_uri": "https://localhost:8080/"
    },
    "executionInfo": {
     "elapsed": 426,
     "status": "ok",
     "timestamp": 1716233048854,
     "user": {
      "displayName": "Daniil",
      "userId": "08235567002064309585"
     },
     "user_tz": -180
    },
    "id": "uKsdRHt6v-Jb",
    "outputId": "71ec0774-63d3-44ed-bf9b-c7e692925add"
   },
   "outputs": [
    {
     "name": "stdout",
     "output_type": "stream",
     "text": [
      "(1115, 10000)\n"
     ]
    }
   ],
   "source": [
    "\n",
    "test_sequences_list = test_sequences_np.tolist()\n",
    "xTest_bow = tokenizer.sequences_to_matrix(test_sequences_list, mode='binary')\n",
    "print(xTest_bow.shape)\n"
   ]
  },
  {
   "cell_type": "markdown",
   "metadata": {
    "id": "JPyyCFG37N_5"
   },
   "source": [
    "##Создание архитектуры модели"
   ]
  },
  {
   "cell_type": "code",
   "execution_count": 38,
   "metadata": {
    "colab": {
     "base_uri": "https://localhost:8080/"
    },
    "executionInfo": {
     "elapsed": 253,
     "status": "ok",
     "timestamp": 1716233051050,
     "user": {
      "displayName": "Daniil",
      "userId": "08235567002064309585"
     },
     "user_tz": -180
    },
    "id": "goVKMBRvwPw4",
    "outputId": "30271ff0-eaf9-407e-dff6-ea70ecb292f6"
   },
   "outputs": [
    {
     "name": "stdout",
     "output_type": "stream",
     "text": [
      "Model: \"sequential_3\"\n",
      "_________________________________________________________________\n",
      " Layer (type)                Output Shape              Param #   \n",
      "=================================================================\n",
      " dense_5 (Dense)             (None, 400)               4000400   \n",
      "                                                                 \n",
      " dropout_2 (Dropout)         (None, 400)               0         \n",
      "                                                                 \n",
      " batch_normalization_1 (Bat  (None, 400)               1600      \n",
      " chNormalization)                                                \n",
      "                                                                 \n",
      " dense_6 (Dense)             (None, 1)                 401       \n",
      "                                                                 \n",
      "=================================================================\n",
      "Total params: 4002401 (15.27 MB)\n",
      "Trainable params: 4001601 (15.26 MB)\n",
      "Non-trainable params: 800 (3.12 KB)\n",
      "_________________________________________________________________\n"
     ]
    }
   ],
   "source": [
    "model1 = Sequential()\n",
    "model1.add(Dense(400, input_dim = 10000 , activation=\"relu\"))\n",
    "model1.add(Dropout(0.25))\n",
    "model1.add(BatchNormalization())\n",
    "model1.add(Dense(1, activation='sigmoid'))\n",
    "model1.compile(optimizer='adam', loss='binary_crossentropy', metrics=['accuracy'])\n",
    "model1.summary()\n",
    "\n",
    "\n",
    "\n"
   ]
  },
  {
   "cell_type": "markdown",
   "metadata": {
    "id": "Xu12qCeK7gRH"
   },
   "source": [
    "##Тестирование и отображение результатов"
   ]
  },
  {
   "cell_type": "code",
   "execution_count": 39,
   "metadata": {
    "colab": {
     "base_uri": "https://localhost:8080/",
     "height": 809
    },
    "executionInfo": {
     "elapsed": 46472,
     "status": "ok",
     "timestamp": 1716233099368,
     "user": {
      "displayName": "Daniil",
      "userId": "08235567002064309585"
     },
     "user_tz": -180
    },
    "id": "w_Josnmww2Et",
    "outputId": "2d7cf76c-3f28-4a2b-ddad-f3281e844763"
   },
   "outputs": [
    {
     "name": "stdout",
     "output_type": "stream",
     "text": [
      "Epoch 1/10\n",
      "35/35 [==============================] - 7s 173ms/step - loss: 0.2794 - accuracy: 0.8793 - val_loss: 0.3630 - val_accuracy: 0.9740\n",
      "Epoch 2/10\n",
      "35/35 [==============================] - 7s 201ms/step - loss: 0.0440 - accuracy: 0.9888 - val_loss: 0.2453 - val_accuracy: 0.9758\n",
      "Epoch 3/10\n",
      "35/35 [==============================] - 5s 157ms/step - loss: 0.0118 - accuracy: 0.9989 - val_loss: 0.1889 - val_accuracy: 0.9776\n",
      "Epoch 4/10\n",
      "35/35 [==============================] - 3s 95ms/step - loss: 0.0065 - accuracy: 0.9993 - val_loss: 0.1502 - val_accuracy: 0.9794\n",
      "Epoch 5/10\n",
      "35/35 [==============================] - 3s 95ms/step - loss: 0.0050 - accuracy: 0.9993 - val_loss: 0.1195 - val_accuracy: 0.9812\n",
      "Epoch 6/10\n",
      "35/35 [==============================] - 3s 91ms/step - loss: 0.0041 - accuracy: 0.9993 - val_loss: 0.0956 - val_accuracy: 0.9848\n",
      "Epoch 7/10\n",
      "35/35 [==============================] - 6s 158ms/step - loss: 0.0025 - accuracy: 0.9993 - val_loss: 0.0759 - val_accuracy: 0.9857\n",
      "Epoch 8/10\n",
      "35/35 [==============================] - 4s 100ms/step - loss: 0.0022 - accuracy: 0.9993 - val_loss: 0.0621 - val_accuracy: 0.9865\n",
      "Epoch 9/10\n",
      "35/35 [==============================] - 3s 92ms/step - loss: 0.0016 - accuracy: 1.0000 - val_loss: 0.0523 - val_accuracy: 0.9874\n",
      "Epoch 10/10\n",
      "35/35 [==============================] - 3s 90ms/step - loss: 0.0015 - accuracy: 1.0000 - val_loss: 0.0454 - val_accuracy: 0.9874\n"
     ]
    },
    {
     "data": {
      "text/plain": [
       "[<matplotlib.lines.Line2D at 0x7af99addf670>]"
      ]
     },
     "execution_count": 39,
     "metadata": {},
     "output_type": "execute_result"
    },
    {
     "data": {
      "image/png": "[encoded data removed]",
      "text/plain": [
       "<Figure size 640x480 with 1 Axes>"
      ]
     },
     "metadata": {},
     "output_type": "display_data"
    }
   ],
   "source": [
    "import matplotlib.pyplot as plt\n",
    "\n",
    "history = model1.fit(xTrain_bow,\n",
    "                     train_data['Category'],\n",
    "                     epochs=10,\n",
    "                     batch_size=128,\n",
    "                     validation_data=(xTest_bow, test_data['Category']))\n",
    "\n",
    "\n",
    "plt.plot(history.history['accuracy'], label='Доля верных ответов на обучающем наборе')\n",
    "plt.plot(history.history['val_accuracy'], label='Доля верных ответов на проверочном наборе')\n",
    "\n",
    "plt.plot(history.history['loss'], label='Значение функции потерь на обучающем наборе')\n",
    "plt.plot(history.history['val_loss'], label='Значение функции потерь на проверочном наборе')\n",
    "\n",
    "\n"
   ]
  },
  {
   "cell_type": "markdown",
   "metadata": {
    "id": "H8ZbU4Q_GGzf"
   },
   "source": [
    "#Вторая Нейросеть\n"
   ]
  },
  {
   "cell_type": "markdown",
   "metadata": {
    "id": "uJ5ZshyT743y"
   },
   "source": [
    "##Чтение Файла"
   ]
  },
  {
   "cell_type": "code",
   "execution_count": null,
   "metadata": {
    "colab": {
     "base_uri": "https://localhost:8080/"
    },
    "executionInfo": {
     "elapsed": 1009,
     "status": "ok",
     "timestamp": 1716236533360,
     "user": {
      "displayName": "Daniil",
      "userId": "08235567002064309585"
     },
     "user_tz": -180
    },
    "id": "6aiVS37xGE6-",
    "outputId": "37315318-2e29-48bf-d491-1d7612a9eaf6"
   },
   "outputs": [
    {
     "name": "stdout",
     "output_type": "stream",
     "text": [
      "  Категория                                          Сообщение\n",
      "0    Работа  Здравствуйте коллеги. Хочу напомнить о нашем п...\n",
      "1    Работа  Приветствую всех.У меня возникли некоторые тру...\n",
      "2    Работа  Привет всем! Я хотел бы поделиться с вами посл...\n",
      "3    Работа  Привет всем! Мы завершили первый этап проекта ...\n",
      "4    Работа  Добрый день коллеги! Мы приближаемся к заверше...\n"
     ]
    }
   ],
   "source": [
    "data_new = pd.read_csv('/content/drive/MyDrive/category.csv', encoding = 'cp1251', delimiter = ';')\n",
    "print(data_new.head())"
   ]
  },
  {
   "cell_type": "markdown",
   "metadata": {
    "id": "XyHIxExu795-"
   },
   "source": [
    "##Удаление предлогов и специальных символов"
   ]
  },
  {
   "cell_type": "code",
   "execution_count": 48,
   "metadata": {
    "executionInfo": {
     "elapsed": 23,
     "status": "ok",
     "timestamp": 1716236534309,
     "user": {
      "displayName": "Daniil",
      "userId": "08235567002064309585"
     },
     "user_tz": -180
    },
    "id": "CiE4P_sdHGxu"
   },
   "outputs": [],
   "source": [
    "prepositions = ['по', 'о', 'у', 'при', 'пре', 'до', 'на', 'Привет', 'в']\n",
    "data_new['Сообщение'] = data_new['Сообщение'].str.replace(r'\\r|\\n|\\t', '', regex=True)\n",
    "data_new['Сообщение'] = data_new['Сообщение'].apply(lambda x: ' '.join([word for word in x.split() if word.lower() not in prepositions]))\n"
   ]
  },
  {
   "cell_type": "markdown",
   "metadata": {
    "id": "J16VHtyh8Ll8"
   },
   "source": [
    "##Приведение категорий к числовому формату"
   ]
  },
  {
   "cell_type": "code",
   "execution_count": 49,
   "metadata": {
    "colab": {
     "base_uri": "https://localhost:8080/"
    },
    "executionInfo": {
     "elapsed": 22,
     "status": "ok",
     "timestamp": 1716236534309,
     "user": {
      "displayName": "Daniil",
      "userId": "08235567002064309585"
     },
     "user_tz": -180
    },
    "id": "bPKRgf3qOILs",
    "outputId": "bd4910eb-a423-4d34-e931-357e0480ae2a"
   },
   "outputs": [
    {
     "name": "stdout",
     "output_type": "stream",
     "text": [
      "   Категория                                          Сообщение\n",
      "0          0  Здравствуйте коллеги. Хочу напомнить нашем пре...\n",
      "1          0  Приветствую всех.У меня возникли некоторые тру...\n",
      "2          0  Привет всем! Я хотел бы поделиться с вами посл...\n",
      "3          0  Привет всем! Мы завершили первый этап проекта ...\n",
      "4          0  Добрый день коллеги! Мы приближаемся к заверше...\n"
     ]
    }
   ],
   "source": [
    "data_new['Категория'], unique = pd.factorize(data_new['Категория'])\n",
    "print(data_new.head())"
   ]
  },
  {
   "cell_type": "markdown",
   "metadata": {
    "id": "XUNTXHzBN6KS"
   },
   "source": [
    "##Всё то же что и в предыдущей модели, токенизация, разделение на два обучающий и тестовый набор, приведение к виду bag of words"
   ]
  },
  {
   "cell_type": "code",
   "execution_count": 50,
   "metadata": {
    "colab": {
     "base_uri": "https://localhost:8080/"
    },
    "executionInfo": {
     "elapsed": 21,
     "status": "ok",
     "timestamp": 1716236534309,
     "user": {
      "displayName": "Daniil",
      "userId": "08235567002064309585"
     },
     "user_tz": -180
    },
    "id": "kCRk3iHECYHs",
    "outputId": "daa17623-5c3b-42a9-8522-283229c93648"
   },
   "outputs": [
    {
     "name": "stdout",
     "output_type": "stream",
     "text": [
      "[[   0    0    0 ...  370  191  371]\n",
      " [   0    0    0 ...    1   76  200]\n",
      " [   0    0    0 ...  390  391  392]\n",
      " ...\n",
      " [   0    0    0 ...   39  128  129]\n",
      " [   0    0    0 ...   12   37  364]\n",
      " [   0    0    0 ...  360 1133  171]]\n",
      "(76, 100)\n",
      "(76, 1134)\n",
      "(20, 1134)\n"
     ]
    }
   ],
   "source": [
    "train_data1, test_data1 = train_test_split(data_new,  test_size=0.2, random_state=10) # Разделение на тестовый и не тестовый датасет\n",
    "tokenizer = Tokenizer()\n",
    "train_text1 = train_data1['Сообщение'].tolist()\n",
    "test_text1 = test_data1['Сообщение'].tolist()\n",
    "tokenizer.fit_on_texts(train_text1) # Создание словаря\n",
    "train_sequences1 = tokenizer.texts_to_sequences(train_text1)\n",
    "test_sequences1 = tokenizer.texts_to_sequences(test_text1)\n",
    "max_sequence_length = 100\n",
    "train_sequences_padded1 = pad_sequences(train_sequences1, maxlen=max_sequence_length) # Приведеие к одинаковой длине\n",
    "test_sequences_padded1 = pad_sequences(test_sequences1, maxlen=max_sequence_length)\n",
    "train_sequences_np1 = np.array(train_sequences_padded1)\n",
    "test_sequences_np1 = np.array(test_sequences_padded1)\n",
    "print(train_sequences_np1)\n",
    "print(train_sequences_np1.shape)\n",
    "train_sequences_list1 = train_sequences_np1.tolist()\n",
    "xTrain_bow1 = tokenizer.sequences_to_matrix(train_sequences_list1, mode='binary') # Приведеие к типу bag of words.\n",
    "print(xTrain_bow1.shape)\n",
    "test_sequences_list1 = test_sequences_np1.tolist()\n",
    "xTest_bow1 = tokenizer.sequences_to_matrix(test_sequences_list1, mode='binary')\n",
    "print(xTest_bow1.shape)\n",
    "yTrain = to_categorical(train_data1['Категория'])\n",
    "yTest = to_categorical(test_data1['Категория'])\n",
    "\n"
   ]
  },
  {
   "cell_type": "markdown",
   "metadata": {
    "id": "pfsBOc-6Bl-M"
   },
   "source": [
    "##Создаём архитектуру модели"
   ]
  },
  {
   "cell_type": "code",
   "execution_count": 51,
   "metadata": {
    "colab": {
     "base_uri": "https://localhost:8080/"
    },
    "executionInfo": {
     "elapsed": 19,
     "status": "ok",
     "timestamp": 1716236534309,
     "user": {
      "displayName": "Daniil",
      "userId": "08235567002064309585"
     },
     "user_tz": -180
    },
    "id": "_64QNaZHnjm0",
    "outputId": "00fd5595-4ff5-454e-b81f-add51d3efcad"
   },
   "outputs": [
    {
     "name": "stdout",
     "output_type": "stream",
     "text": [
      "Собираем модель...\n",
      "Model: \"sequential_5\"\n",
      "_________________________________________________________________\n",
      " Layer (type)                Output Shape              Param #   \n",
      "=================================================================\n",
      " dense_9 (Dense)             (None, 100)               113500    \n",
      "                                                                 \n",
      " activation_4 (Activation)   (None, 100)               0         \n",
      "                                                                 \n",
      " dropout_4 (Dropout)         (None, 100)               0         \n",
      "                                                                 \n",
      " dense_10 (Dense)            (None, 4)                 404       \n",
      "                                                                 \n",
      " activation_5 (Activation)   (None, 4)                 0         \n",
      "                                                                 \n",
      "=================================================================\n",
      "Total params: 113904 (444.94 KB)\n",
      "Trainable params: 113904 (444.94 KB)\n",
      "Non-trainable params: 0 (0.00 Byte)\n",
      "_________________________________________________________________\n",
      "None\n"
     ]
    }
   ],
   "source": [
    "epochs = 10\n",
    "\n",
    "print(u'Собираем модель...')\n",
    "model = Sequential()\n",
    "model.add(Dense(100, input_shape=(1134,)))\n",
    "model.add(Activation('relu'))\n",
    "model.add(Dropout(0.2))\n",
    "model.add(Dense(4))\n",
    "model.add(Activation('softmax'))\n",
    "\n",
    "model.compile(loss='categorical_crossentropy',\n",
    "              optimizer='adam',\n",
    "              metrics=['accuracy'])\n",
    "\n",
    "\n",
    "\n",
    "print(model.summary())"
   ]
  },
  {
   "cell_type": "markdown",
   "metadata": {
    "id": "UYgYLcyhBud-"
   },
   "source": [
    "##Обучаем нейросеть"
   ]
  },
  {
   "cell_type": "code",
   "execution_count": 52,
   "metadata": {
    "colab": {
     "base_uri": "https://localhost:8080/"
    },
    "executionInfo": {
     "elapsed": 1929,
     "status": "ok",
     "timestamp": 1716236536229,
     "user": {
      "displayName": "Daniil",
      "userId": "08235567002064309585"
     },
     "user_tz": -180
    },
    "id": "hgsz2eKrpzrm",
    "outputId": "93741342-ca2f-4073-dced-74a19a7954dc"
   },
   "outputs": [
    {
     "name": "stdout",
     "output_type": "stream",
     "text": [
      "Epoch 1/10\n",
      "3/3 [==============================] - 1s 104ms/step - loss: 1.4017 - accuracy: 0.3158 - val_loss: 1.3532 - val_accuracy: 0.4000\n",
      "Epoch 2/10\n",
      "3/3 [==============================] - 0s 47ms/step - loss: 1.2163 - accuracy: 0.6184 - val_loss: 1.2690 - val_accuracy: 0.5500\n",
      "Epoch 3/10\n",
      "3/3 [==============================] - 0s 36ms/step - loss: 1.0459 - accuracy: 0.9211 - val_loss: 1.1909 - val_accuracy: 0.7000\n",
      "Epoch 4/10\n",
      "3/3 [==============================] - 0s 35ms/step - loss: 0.8912 - accuracy: 0.9868 - val_loss: 1.1127 - val_accuracy: 0.7500\n",
      "Epoch 5/10\n",
      "3/3 [==============================] - 0s 31ms/step - loss: 0.7830 - accuracy: 0.9868 - val_loss: 1.0361 - val_accuracy: 0.8000\n",
      "Epoch 6/10\n",
      "3/3 [==============================] - 0s 27ms/step - loss: 0.6576 - accuracy: 1.0000 - val_loss: 0.9626 - val_accuracy: 0.9500\n",
      "Epoch 7/10\n",
      "3/3 [==============================] - 0s 37ms/step - loss: 0.5599 - accuracy: 1.0000 - val_loss: 0.8917 - val_accuracy: 0.9500\n",
      "Epoch 8/10\n",
      "3/3 [==============================] - 0s 39ms/step - loss: 0.4856 - accuracy: 1.0000 - val_loss: 0.8212 - val_accuracy: 0.9500\n",
      "Epoch 9/10\n",
      "3/3 [==============================] - 0s 45ms/step - loss: 0.4001 - accuracy: 1.0000 - val_loss: 0.7554 - val_accuracy: 0.9500\n",
      "Epoch 10/10\n",
      "3/3 [==============================] - 0s 25ms/step - loss: 0.3416 - accuracy: 1.0000 - val_loss: 0.6945 - val_accuracy: 0.9500\n"
     ]
    }
   ],
   "source": [
    "history = model.fit(xTrain_bow1, yTrain,\n",
    "                    batch_size=32,\n",
    "                    epochs=10,\n",
    "                    validation_data=(xTest_bow1, yTest))\n"
   ]
  },
  {
   "cell_type": "markdown",
   "metadata": {
    "id": "PpT72QitB9vD"
   },
   "source": [
    "##Отображение результатов"
   ]
  },
  {
   "cell_type": "code",
   "execution_count": 53,
   "metadata": {
    "colab": {
     "base_uri": "https://localhost:8080/",
     "height": 507
    },
    "executionInfo": {
     "elapsed": 1039,
     "status": "ok",
     "timestamp": 1716236537261,
     "user": {
      "displayName": "Daniil",
      "userId": "08235567002064309585"
     },
     "user_tz": -180
    },
    "id": "6lFxoK9bJyBO",
    "outputId": "bc201bcd-1376-4475-b796-deec5cf91a24"
   },
   "outputs": [
    {
     "data": {
      "image/png": "[encoded data removed]",
      "text/plain": [
       "<Figure size 1200x500 with 2 Axes>"
      ]
     },
     "metadata": {},
     "output_type": "display_data"
    }
   ],
   "source": [
    "history_dict = history.history\n",
    "loss_values = history_dict['loss']\n",
    "val_loss_values = history_dict['val_loss']\n",
    "accuracy_values = history_dict['accuracy']\n",
    "val_accuracy_values = history_dict['val_accuracy']\n",
    "\n",
    "epochs = range(1, len(loss_values) + 1)\n",
    "\n",
    "plt.figure(figsize=(12, 5))\n",
    "\n",
    "plt.subplot(1, 2, 1)\n",
    "plt.plot(epochs, loss_values, 'b-', label='Потери на обучающем наборе')\n",
    "plt.plot(epochs, val_loss_values, 'r-', label='Потери на тестовом наборе')\n",
    "plt.title('Потери')\n",
    "plt.xlabel('Эпоха обучения')\n",
    "plt.ylabel('Потери')\n",
    "plt.legend()\n",
    "\n",
    "plt.subplot(1, 2, 2)\n",
    "plt.plot(epochs, accuracy_values, 'b-', label='Точность на обучающем наборе')\n",
    "plt.plot(epochs, val_accuracy_values, 'r-', label='Точность на тестовом наборе')\n",
    "plt.title('Точность')\n",
    "plt.xlabel('Эпоха обучения')\n",
    "plt.ylabel('Точность')\n",
    "plt.legend()\n",
    "\n",
    "plt.tight_layout()\n",
    "plt.show()\n",
    "\n",
    "\n"
   ]
  }
 ],
 "metadata": {
  "colab": {
   "authorship_tag": "ABX9TyNAsfIUISqFk58ivJrwYobt",
   "collapsed_sections": [
    "v2589k_RTSaI",
    "rjByIHC3dg7b",
    "H8ZbU4Q_GGzf"
   ],
   "provenance": [
    {
     "file_id": "1qrMW_RQGn_GwPigKAz5WLu35g184asY8",
     "timestamp": 1716147136161
    }
   ]
  },
  "kernelspec": {
   "display_name": "Python 3",
   "name": "python3"
  },
  "language_info": {
   "name": "python"
  }
 },
 "nbformat": 4,
 "nbformat_minor": 0
}
